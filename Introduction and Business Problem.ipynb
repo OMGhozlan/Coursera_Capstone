{
 "cells": [
  {
   "cell_type": "markdown",
   "metadata": {},
   "source": [
    "# Battle of The Brands: Capstone Final Project\n",
    "\n",
    "\n",
    "# Introduction and Business Problem\n",
    "\n",
    "**Introduction:**\n",
    "- In Egypt, many outings revolve around having a delicious meal followed by spending some time in Cafe. With the large number of opening restaurants offering different cusine, it becomes rather hard to determine which restaurants are worth going to and how far they are.\n",
    "    \n",
    "    \n",
    "    \n",
    "**Business Problem:**\n",
    "- This project aims to provide simple guide on where to eat based on Foursquare ratings, price, category and geographic location data for restaurants in Great Cairo.  The restaurants would be grouped (clustered) based on their similarities so that it can be easily determined what type cuisine they are looking for and in its price range."
   ]
  },
  {
   "cell_type": "markdown",
   "metadata": {},
   "source": [
    "# Data Required\n",
    "\n",
    "For this task, Foursquare API will be used to retrieve data for restaurants in Great Cairo:\n",
    "- Venue Name\n",
    "- Venue ID\n",
    "- Venue Location\n",
    "- Venue Category\n",
    "- Rating\n",
    "- Price\n",
    "- Likes\n",
    "- Phrases"
   ]
  },
  {
   "attachments": {},
   "cell_type": "markdown",
   "metadata": {},
   "source": [
    "# Data Acquisition\n",
    "\n",
    "To acquire the needed data the following shall be done:\n",
    "\n",
    "- Retrieve list of districts in Great Cairo\n",
    "- Use geolocator to obtain coordinates (latitude and longitude) for fetched districts\n",
    "- Retrieve a list of all venues in these districts\n",
    "- Retrieve venue IDs for each venue\n",
    "- Retrieve venue name, location, category, etc.. for each venue"
   ]
  },
  {
   "cell_type": "markdown",
   "metadata": {},
   "source": [
    "# Data Usage\n",
    "\n",
    "The aforementioned gathered data shall be fed into a clustering algorithim (k-means clustering algorithm being the one of choice) and using methods, the appropriate number of K shall be determined and consequently used allowing people looking to hang out whether it's in a cafe or restaurant to see which restaurants will quench their thirst and satisfy their crave"
   ]
  }
 ],
 "metadata": {
  "kernelspec": {
   "display_name": "Python 3.5",
   "language": "python",
   "name": "python3"
  },
  "language_info": {
   "codemirror_mode": {
    "name": "ipython",
    "version": 3
   },
   "file_extension": ".py",
   "mimetype": "text/x-python",
   "name": "python",
   "nbconvert_exporter": "python",
   "pygments_lexer": "ipython3",
   "version": "3.5.5"
  }
 },
 "nbformat": 4,
 "nbformat_minor": 2
}
